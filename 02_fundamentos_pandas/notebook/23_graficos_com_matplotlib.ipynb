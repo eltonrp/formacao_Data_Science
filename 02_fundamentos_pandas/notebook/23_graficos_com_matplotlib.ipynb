{
 "cells": [
  {
   "cell_type": "markdown",
   "metadata": {},
   "source": [
    "# Gráficos com Matplotlib"
   ]
  },
  {
   "cell_type": "code",
   "execution_count": 411,
   "metadata": {},
   "outputs": [],
   "source": [
    "%matplotlib inline\n",
    "import pandas as pd\n",
    "import matplotlib.pyplot as plt\n",
    "plt.rc('figure', figsize=(15,8))"
   ]
  },
  {
   "cell_type": "code",
   "execution_count": 412,
   "metadata": {},
   "outputs": [
    {
     "data": {
      "text/html": [
       "<div>\n",
       "<style scoped>\n",
       "    .dataframe tbody tr th:only-of-type {\n",
       "        vertical-align: middle;\n",
       "    }\n",
       "\n",
       "    .dataframe tbody tr th {\n",
       "        vertical-align: top;\n",
       "    }\n",
       "\n",
       "    .dataframe thead th {\n",
       "        text-align: right;\n",
       "    }\n",
       "</style>\n",
       "<table border=\"1\" class=\"dataframe\">\n",
       "  <thead>\n",
       "    <tr style=\"text-align: right;\">\n",
       "      <th></th>\n",
       "      <th>Tipo</th>\n",
       "      <th>Bairro</th>\n",
       "      <th>Quartos</th>\n",
       "      <th>Vagas</th>\n",
       "      <th>Suites</th>\n",
       "      <th>Area</th>\n",
       "      <th>Valor</th>\n",
       "      <th>Condominio</th>\n",
       "      <th>IPTU</th>\n",
       "      <th>Valor m2</th>\n",
       "      <th>Tipo Agregado</th>\n",
       "    </tr>\n",
       "  </thead>\n",
       "  <tbody>\n",
       "    <tr>\n",
       "      <th>0</th>\n",
       "      <td>Apartamento</td>\n",
       "      <td>Centro</td>\n",
       "      <td>1</td>\n",
       "      <td>0</td>\n",
       "      <td>0</td>\n",
       "      <td>15</td>\n",
       "      <td>800.0</td>\n",
       "      <td>390.0</td>\n",
       "      <td>20.0</td>\n",
       "      <td>53.33</td>\n",
       "      <td>Apartamento</td>\n",
       "    </tr>\n",
       "    <tr>\n",
       "      <th>1</th>\n",
       "      <td>Apartamento</td>\n",
       "      <td>Higienópolis</td>\n",
       "      <td>1</td>\n",
       "      <td>0</td>\n",
       "      <td>0</td>\n",
       "      <td>48</td>\n",
       "      <td>800.0</td>\n",
       "      <td>230.0</td>\n",
       "      <td>0.0</td>\n",
       "      <td>16.67</td>\n",
       "      <td>Apartamento</td>\n",
       "    </tr>\n",
       "    <tr>\n",
       "      <th>2</th>\n",
       "      <td>Apartamento</td>\n",
       "      <td>Cachambi</td>\n",
       "      <td>2</td>\n",
       "      <td>0</td>\n",
       "      <td>0</td>\n",
       "      <td>50</td>\n",
       "      <td>1300.0</td>\n",
       "      <td>301.0</td>\n",
       "      <td>17.0</td>\n",
       "      <td>26.00</td>\n",
       "      <td>Apartamento</td>\n",
       "    </tr>\n",
       "    <tr>\n",
       "      <th>3</th>\n",
       "      <td>Apartamento</td>\n",
       "      <td>Grajaú</td>\n",
       "      <td>2</td>\n",
       "      <td>1</td>\n",
       "      <td>0</td>\n",
       "      <td>70</td>\n",
       "      <td>1500.0</td>\n",
       "      <td>642.0</td>\n",
       "      <td>74.0</td>\n",
       "      <td>21.43</td>\n",
       "      <td>Apartamento</td>\n",
       "    </tr>\n",
       "    <tr>\n",
       "      <th>4</th>\n",
       "      <td>Apartamento</td>\n",
       "      <td>Lins de Vasconcelos</td>\n",
       "      <td>3</td>\n",
       "      <td>1</td>\n",
       "      <td>1</td>\n",
       "      <td>90</td>\n",
       "      <td>1500.0</td>\n",
       "      <td>455.0</td>\n",
       "      <td>14.0</td>\n",
       "      <td>16.67</td>\n",
       "      <td>Apartamento</td>\n",
       "    </tr>\n",
       "  </tbody>\n",
       "</table>\n",
       "</div>"
      ],
      "text/plain": [
       "          Tipo               Bairro  Quartos  Vagas  Suites  Area   Valor  \\\n",
       "0  Apartamento               Centro        1      0       0    15   800.0   \n",
       "1  Apartamento         Higienópolis        1      0       0    48   800.0   \n",
       "2  Apartamento             Cachambi        2      0       0    50  1300.0   \n",
       "3  Apartamento               Grajaú        2      1       0    70  1500.0   \n",
       "4  Apartamento  Lins de Vasconcelos        3      1       1    90  1500.0   \n",
       "\n",
       "   Condominio  IPTU  Valor m2 Tipo Agregado  \n",
       "0       390.0  20.0     53.33   Apartamento  \n",
       "1       230.0   0.0     16.67   Apartamento  \n",
       "2       301.0  17.0     26.00   Apartamento  \n",
       "3       642.0  74.0     21.43   Apartamento  \n",
       "4       455.0  14.0     16.67   Apartamento  "
      ]
     },
     "execution_count": 412,
     "metadata": {},
     "output_type": "execute_result"
    }
   ],
   "source": [
    "dados = pd.read_csv('../dados/aluguel2.csv', sep=';')\n",
    "dados.head()"
   ]
  },
  {
   "cell_type": "markdown",
   "metadata": {},
   "source": [
    "## Criar uma área com vários gráficos"
   ]
  },
  {
   "cell_type": "code",
   "execution_count": 413,
   "metadata": {},
   "outputs": [
    {
     "data": {
      "text/plain": [
       "<Figure size 1080x576 with 0 Axes>"
      ]
     },
     "metadata": {},
     "output_type": "display_data"
    }
   ],
   "source": [
    "area = plt.figure()"
   ]
  },
  {
   "cell_type": "markdown",
   "metadata": {},
   "source": [
    "### Colocando 4 gráficos dentro dessa área"
   ]
  },
  {
   "cell_type": "code",
   "execution_count": 414,
   "metadata": {},
   "outputs": [],
   "source": [
    "# sigfinica que na área terão 4 gráficos\n",
    "# 2 linhas, 2 colunas e este estará na posição 1\n",
    "g1 = area.add_subplot(2, 2, 1)\n",
    "# fazendo para os outros gráficos\n",
    "g2 = area.add_subplot(2, 2, 2)\n",
    "g3 = area.add_subplot(2, 2, 3)\n",
    "g4 = area.add_subplot(2, 2, 4)"
   ]
  },
  {
   "cell_type": "markdown",
   "metadata": {},
   "source": [
    "### Criando gráficos de dispersão"
   ]
  },
  {
   "cell_type": "code",
   "execution_count": 415,
   "metadata": {},
   "outputs": [
    {
     "data": {
      "text/plain": [
       "Text(0.5, 1.0, 'Valor x Área')"
      ]
     },
     "execution_count": 415,
     "metadata": {},
     "output_type": "execute_result"
    }
   ],
   "source": [
    "# cria um gráfico de dispersão, com as variáveis passadas\n",
    "g1.scatter(dados.Valor, dados.Area)\n",
    "# cria um título para o gráfico\n",
    "g1.set_title('Valor x Área')"
   ]
  },
  {
   "cell_type": "code",
   "execution_count": 416,
   "metadata": {},
   "outputs": [
    {
     "data": {
      "image/png": "[encoded data removed]",
      "text/plain": [
       "<Figure size 1080x576 with 4 Axes>"
      ]
     },
     "execution_count": 416,
     "metadata": {},
     "output_type": "execute_result"
    }
   ],
   "source": [
    "area"
   ]
  },
  {
   "cell_type": "markdown",
   "metadata": {},
   "source": [
    "### Criando um gráfico de histograma"
   ]
  },
  {
   "cell_type": "code",
   "execution_count": 417,
   "metadata": {
    "scrolled": true
   },
   "outputs": [
    {
     "data": {
      "text/plain": [
       "Text(0.5, 1.0, 'Histograma')"
      ]
     },
     "execution_count": 417,
     "metadata": {},
     "output_type": "execute_result"
    }
   ],
   "source": [
    "g2.hist(dados.Valor)\n",
    "g2.set_title('Histograma')"
   ]
  },
  {
   "cell_type": "markdown",
   "metadata": {},
   "source": [
    "### Criando um amostra aleatória dentro do próprio dataframe"
   ]
  },
  {
   "cell_type": "code",
   "execution_count": 418,
   "metadata": {},
   "outputs": [
    {
     "data": {
      "text/plain": [
       "Text(0.5, 1.0, 'Amostra (Valor)')"
      ]
     },
     "execution_count": 418,
     "metadata": {},
     "output_type": "execute_result"
    }
   ],
   "source": [
    "# cria-se uma amostra aleatória com 100 registros\n",
    "dados_g3 = dados.Valor.sample(100)\n",
    "# reconstruindo o index\n",
    "dados_g3.index = range(dados_g3.shape[0])\n",
    "# passa esses dados para o gráfico\n",
    "g3.plot(dados_g3)\n",
    "# lembrando que cada vez que a célula for rodada, será criado uma amostra, portando um gráfico diferente\n",
    "g3.set_title('Amostra (Valor)')"
   ]
  },
  {
   "cell_type": "markdown",
   "metadata": {},
   "source": [
    "### Criando um gráfico de barras"
   ]
  },
  {
   "cell_type": "code",
   "execution_count": 419,
   "metadata": {},
   "outputs": [
    {
     "data": {
      "text/plain": [
       "Text(0.5, 1.0, 'Valor Médio por Tipo')"
      ]
     },
     "execution_count": 419,
     "metadata": {},
     "output_type": "execute_result"
    }
   ],
   "source": [
    "# agrupando por tipo e pegando apenas os valores\n",
    "grupo = dados.groupby('Tipo')['Valor']\n",
    "# criando os rótulos\n",
    "label = grupo.mean().index\n",
    "valores = grupo.mean().values\n",
    "# o gráfico de barras precisa dos rótulos e valores\n",
    "g4.bar(label, valores)\n",
    "g4.set_title('Valor Médio por Tipo')"
   ]
  },
  {
   "cell_type": "markdown",
   "metadata": {},
   "source": [
    "### Visualizando todos os gráficos\n",
    "* para deixar essas áreas vazias é possível usar:  \n",
    "    `area = ''`"
   ]
  },
  {
   "cell_type": "code",
   "execution_count": 420,
   "metadata": {},
   "outputs": [
    {
     "data": {
      "image/png": "[encoded data removed]",
      "text/plain": [
       "<Figure size 1080x576 with 4 Axes>"
      ]
     },
     "execution_count": 420,
     "metadata": {},
     "output_type": "execute_result"
    }
   ],
   "source": [
    "# visualiza todos os gráficos gerados na área previamente configurada\n",
    "area"
   ]
  },
  {
   "cell_type": "markdown",
   "metadata": {},
   "source": [
    "## Salvando a imagem gerada"
   ]
  },
  {
   "cell_type": "code",
   "execution_count": 421,
   "metadata": {},
   "outputs": [],
   "source": [
    "# define um nome para a figura\n",
    "# ajusta a definição da imagem\n",
    "# estreita as margens brancas entre gráficos para melhor colagem da imagem\n",
    "area.savefig('../dados/grafico.png', dpi=300, bbox_inches='tight')"
   ]
  },
  {
   "cell_type": "markdown",
   "metadata": {},
   "source": [
    "### Rodando a imagem em Markdown\n",
    "`![](../dados/grafico.png)`"
   ]
  },
  {
   "cell_type": "markdown",
   "metadata": {},
   "source": [
    "![](../dados/grafico.png)"
   ]
  },
  {
   "cell_type": "markdown",
   "metadata": {},
   "source": [
    "## Exercício"
   ]
  },
  {
   "cell_type": "markdown",
   "metadata": {},
   "source": [
    "### Considere neste exercício o arquivo aluguel_amostra.csv e indique qual o código necessário para gerar os gráficos da figura a seguir:    \n",
    "![](../dados/exercicio5.png)  "
   ]
  },
  {
   "cell_type": "markdown",
   "metadata": {},
   "source": [
    "* Neste exercício, estamos apresentando o gráfico de pizza que pode ser obtido com a aplicação do método pie(), de matplotlib.\n",
    "* Considere o código inicial abaixo para resolver o exercício:  \n",
    "\n",
    "```\n",
    "%matplotlib inline\n",
    "import pandas as pd\n",
    "import matplotlib.pyplot as plt\n",
    "plt.rc('figure', figsize = (15, 7))\n",
    "dados = pd.read_csv('dados/aluguel_amostra.csv', sep = ';')\n",
    "```"
   ]
  },
  {
   "cell_type": "code",
   "execution_count": 422,
   "metadata": {},
   "outputs": [],
   "source": [
    "%matplotlib inline\n",
    "import pandas as pd\n",
    "import matplotlib.pyplot as plt\n",
    "plt.rc('figure', figsize = (15, 7))\n",
    "dados_exercicio = pd.read_csv('../dados/aluguel_amostra.csv', sep = ';')"
   ]
  },
  {
   "cell_type": "code",
   "execution_count": 423,
   "metadata": {},
   "outputs": [
    {
     "data": {
      "text/html": [
       "<div>\n",
       "<style scoped>\n",
       "    .dataframe tbody tr th:only-of-type {\n",
       "        vertical-align: middle;\n",
       "    }\n",
       "\n",
       "    .dataframe tbody tr th {\n",
       "        vertical-align: top;\n",
       "    }\n",
       "\n",
       "    .dataframe thead th {\n",
       "        text-align: right;\n",
       "    }\n",
       "</style>\n",
       "<table border=\"1\" class=\"dataframe\">\n",
       "  <thead>\n",
       "    <tr style=\"text-align: right;\">\n",
       "      <th></th>\n",
       "      <th>Tipo</th>\n",
       "      <th>Bairro</th>\n",
       "      <th>Quartos</th>\n",
       "      <th>Vagas</th>\n",
       "      <th>Suites</th>\n",
       "      <th>Area</th>\n",
       "      <th>Valor</th>\n",
       "      <th>Condominio</th>\n",
       "      <th>IPTU</th>\n",
       "      <th>Valor m2</th>\n",
       "      <th>Tipo Agregado</th>\n",
       "    </tr>\n",
       "  </thead>\n",
       "  <tbody>\n",
       "    <tr>\n",
       "      <th>0</th>\n",
       "      <td>Apartamento</td>\n",
       "      <td>Recreio dos Bandeirantes</td>\n",
       "      <td>3</td>\n",
       "      <td>2</td>\n",
       "      <td>1</td>\n",
       "      <td>320</td>\n",
       "      <td>3200.0</td>\n",
       "      <td>1319.0</td>\n",
       "      <td>0.0</td>\n",
       "      <td>10.00</td>\n",
       "      <td>Apartamento</td>\n",
       "    </tr>\n",
       "    <tr>\n",
       "      <th>1</th>\n",
       "      <td>Apartamento</td>\n",
       "      <td>Maracanã</td>\n",
       "      <td>2</td>\n",
       "      <td>0</td>\n",
       "      <td>0</td>\n",
       "      <td>59</td>\n",
       "      <td>800.0</td>\n",
       "      <td>725.0</td>\n",
       "      <td>47.0</td>\n",
       "      <td>13.56</td>\n",
       "      <td>Apartamento</td>\n",
       "    </tr>\n",
       "    <tr>\n",
       "      <th>2</th>\n",
       "      <td>Apartamento</td>\n",
       "      <td>Leblon</td>\n",
       "      <td>3</td>\n",
       "      <td>2</td>\n",
       "      <td>1</td>\n",
       "      <td>147</td>\n",
       "      <td>7500.0</td>\n",
       "      <td>1000.0</td>\n",
       "      <td>381.0</td>\n",
       "      <td>51.02</td>\n",
       "      <td>Apartamento</td>\n",
       "    </tr>\n",
       "    <tr>\n",
       "      <th>3</th>\n",
       "      <td>Apartamento</td>\n",
       "      <td>São Conrado</td>\n",
       "      <td>3</td>\n",
       "      <td>3</td>\n",
       "      <td>3</td>\n",
       "      <td>270</td>\n",
       "      <td>14999.0</td>\n",
       "      <td>2800.0</td>\n",
       "      <td>1200.0</td>\n",
       "      <td>55.55</td>\n",
       "      <td>Apartamento</td>\n",
       "    </tr>\n",
       "    <tr>\n",
       "      <th>4</th>\n",
       "      <td>Apartamento</td>\n",
       "      <td>Tijuca</td>\n",
       "      <td>2</td>\n",
       "      <td>1</td>\n",
       "      <td>0</td>\n",
       "      <td>65</td>\n",
       "      <td>1200.0</td>\n",
       "      <td>640.0</td>\n",
       "      <td>97.0</td>\n",
       "      <td>18.46</td>\n",
       "      <td>Apartamento</td>\n",
       "    </tr>\n",
       "  </tbody>\n",
       "</table>\n",
       "</div>"
      ],
      "text/plain": [
       "          Tipo                    Bairro  Quartos  Vagas  Suites  Area  \\\n",
       "0  Apartamento  Recreio dos Bandeirantes        3      2       1   320   \n",
       "1  Apartamento                  Maracanã        2      0       0    59   \n",
       "2  Apartamento                    Leblon        3      2       1   147   \n",
       "3  Apartamento               São Conrado        3      3       3   270   \n",
       "4  Apartamento                    Tijuca        2      1       0    65   \n",
       "\n",
       "     Valor  Condominio    IPTU  Valor m2 Tipo Agregado  \n",
       "0   3200.0      1319.0     0.0     10.00   Apartamento  \n",
       "1    800.0       725.0    47.0     13.56   Apartamento  \n",
       "2   7500.0      1000.0   381.0     51.02   Apartamento  \n",
       "3  14999.0      2800.0  1200.0     55.55   Apartamento  \n",
       "4   1200.0       640.0    97.0     18.46   Apartamento  "
      ]
     },
     "execution_count": 423,
     "metadata": {},
     "output_type": "execute_result"
    }
   ],
   "source": [
    "dados_exercicio.head()"
   ]
  },
  {
   "cell_type": "code",
   "execution_count": 424,
   "metadata": {},
   "outputs": [
    {
     "data": {
      "text/plain": [
       "Text(0.5, 1.0, 'Total de Imóveis por Tipo')"
      ]
     },
     "execution_count": 424,
     "metadata": {},
     "output_type": "execute_result"
    },
    {
     "data": {
      "image/png": "[encoded data removed]",
      "text/plain": [
       "<Figure size 1080x504 with 2 Axes>"
      ]
     },
     "metadata": {},
     "output_type": "display_data"
    }
   ],
   "source": [
    "# cria a área\n",
    "area = plt.figure()\n",
    "# cria e dimensiona a variável dos gráficos\n",
    "g1 = area.add_subplot(1, 2, 1)\n",
    "g2 = area.add_subplot(1, 2, 2)\n",
    "# seleciona os valores e rótulos\n",
    "grupo1 = dados.groupby('Tipo Agregado')['Valor']\n",
    "label = grupo1.count().index\n",
    "valores = grupo1.count().values\n",
    "# passa os parâmetros para o gráfico e ajusta o valor exibido para % com uma casa decimal\n",
    "g1.pie(valores, labels = label, autopct='%.1f%%')\n",
    "# define o título\n",
    "g1.set_title('Total de Imóveis por Tipo Agregado')\n",
    "# seleciona os valores e rótulos\n",
    "grupo2 = dados.groupby('Tipo')['Valor']\n",
    "label = grupo2.count().index\n",
    "valores = grupo2.count().values\n",
    "# passa os parâmetros para o gráfico e ajusta o valor exibido para % com uma casa decimal\n",
    "# explode descola os valores do gráfico\n",
    "g2.pie(valores, labels = label, autopct='%.1f%%', explode = (.1, .1, .1, .1, .1))\n",
    "# define o título\n",
    "g2.set_title('Total de Imóveis por Tipo')"
   ]
  },
  {
   "cell_type": "markdown",
   "metadata": {},
   "source": [
    "## Extra com gráfico de pizza"
   ]
  },
  {
   "cell_type": "markdown",
   "metadata": {},
   "source": [
    "### Analisando a variável bairros"
   ]
  },
  {
   "cell_type": "code",
   "execution_count": 425,
   "metadata": {},
   "outputs": [
    {
     "data": {
      "text/plain": [
       "array(['Recreio dos Bandeirantes', 'Maracanã', 'Leblon', 'São Conrado',\n",
       "       'Tijuca', 'Cachambi', 'Glória', 'Engenho Novo', 'Flamengo',\n",
       "       'Pechincha', 'Lagoa', 'Vaz Lobo', 'Copacabana', 'Curicica',\n",
       "       'Zumbi', 'Barra da Tijuca', 'Vila Isabel', 'Ipanema', 'Gávea',\n",
       "       'Laranjeiras', 'Vila Valqueire', 'Botafogo', 'Leme', 'Méier',\n",
       "       'Rio Comprido', 'Catete', 'Jacarepaguá', 'Lapa', 'Irajá',\n",
       "       'Lins de Vasconcelos', 'Vila da Penha', 'Grajaú',\n",
       "       'Freguesia (Jacarepaguá)', 'Taquara', 'Realengo', 'Joá',\n",
       "       'Jardim Botânico', 'Itanhangá', 'Ramos', 'Riachuelo',\n",
       "       'Vargem Grande', 'Marechal Hermes', 'Bonsucesso',\n",
       "       'Vicente de Carvalho', 'Centro', 'Todos os Santos',\n",
       "       'Engenho de Dentro', 'Olaria', 'Santa Teresa', 'Urca', 'Anchieta',\n",
       "       'Anil', 'Vila Kosmos', 'Cascadura', 'Jardim Guanabara',\n",
       "       'Santo Cristo', 'Praça da Bandeira', 'Campo Grande', 'Pavuna',\n",
       "       'Jardim América', 'Vargem Pequena', 'Humaitá',\n",
       "       'São Francisco Xavier', 'Piedade', 'Andaraí', 'Cosme Velho',\n",
       "       'Senador Vasconcelos', 'Icaraí', 'Cordovil', 'Del Castilho',\n",
       "       'Arpoador', 'Santa Cruz', 'Oswaldo Cruz', 'Encantado',\n",
       "       'Rocha Miranda', 'Tomás Coelho', 'Penha', 'Bento Ribeiro', 'Bangu',\n",
       "       'Paciência', 'Quintino Bocaiúva', 'Praça Seca', 'Campinho',\n",
       "       'São Cristóvão', 'Pilares', 'Gardênia Azul', 'Camorim',\n",
       "       'Pedra de Guaratiba', 'Usina', 'Inhaúma', 'Maria da Graça',\n",
       "       'Península', 'Honório Gurgel', 'Higienópolis', 'Largo do Machado',\n",
       "       'Estácio', 'Cidade Nova', 'Barra de Guaratiba', 'Guaratiba',\n",
       "       'Santíssimo', 'Freguesia (Ilha do Governador)', 'Sampaio',\n",
       "       'Catumbi', 'Jardim Oceânico', 'Engenho da Rainha', 'Madureira',\n",
       "       'Cacuia', 'Tauá', 'Rocha', 'Portuguesa', 'Gamboa', 'Vista Alegre',\n",
       "       'Jardim Sulacap', 'Braz de Pina', 'Vidigal', 'Ilha do Governador',\n",
       "       'Tanque', 'Cocotá', 'Jacaré', 'Parque Anchieta', 'Água Santa',\n",
       "       'Senador Camará', 'Magalhães Bastos', 'Abolição', 'Ribeira',\n",
       "       'Padre Miguel', 'Inhoaíba', 'Cosmos', 'Moneró', 'Jardim Carioca',\n",
       "       'Fátima', 'Pitangueiras', 'Alto da Boa Vista', 'Cavalcanti',\n",
       "       'Bancários', 'Penha Circular', 'Jabour', 'Saúde', 'Colégio',\n",
       "       'Vigário Geral', 'Benfica', 'Rio da Prata', 'Turiaçu',\n",
       "       'Cachamorra', 'Vila Militar'], dtype=object)"
      ]
     },
     "execution_count": 425,
     "metadata": {},
     "output_type": "execute_result"
    }
   ],
   "source": [
    "dados_exercicio['Bairro'].unique()"
   ]
  },
  {
   "cell_type": "markdown",
   "metadata": {},
   "source": [
    "### Selecionando somente alguns bairros "
   ]
  },
  {
   "cell_type": "code",
   "execution_count": 426,
   "metadata": {},
   "outputs": [
    {
     "data": {
      "text/html": [
       "<div>\n",
       "<style scoped>\n",
       "    .dataframe tbody tr th:only-of-type {\n",
       "        vertical-align: middle;\n",
       "    }\n",
       "\n",
       "    .dataframe tbody tr th {\n",
       "        vertical-align: top;\n",
       "    }\n",
       "\n",
       "    .dataframe thead th {\n",
       "        text-align: right;\n",
       "    }\n",
       "</style>\n",
       "<table border=\"1\" class=\"dataframe\">\n",
       "  <thead>\n",
       "    <tr style=\"text-align: right;\">\n",
       "      <th></th>\n",
       "      <th>Tipo</th>\n",
       "      <th>Bairro</th>\n",
       "      <th>Quartos</th>\n",
       "      <th>Vagas</th>\n",
       "      <th>Suites</th>\n",
       "      <th>Area</th>\n",
       "      <th>Valor</th>\n",
       "      <th>Condominio</th>\n",
       "      <th>IPTU</th>\n",
       "      <th>Valor m2</th>\n",
       "      <th>Tipo Agregado</th>\n",
       "    </tr>\n",
       "  </thead>\n",
       "  <tbody>\n",
       "    <tr>\n",
       "      <th>2</th>\n",
       "      <td>Apartamento</td>\n",
       "      <td>Leblon</td>\n",
       "      <td>3</td>\n",
       "      <td>2</td>\n",
       "      <td>1</td>\n",
       "      <td>147</td>\n",
       "      <td>7500.0</td>\n",
       "      <td>1000.0</td>\n",
       "      <td>381.0</td>\n",
       "      <td>51.02</td>\n",
       "      <td>Apartamento</td>\n",
       "    </tr>\n",
       "    <tr>\n",
       "      <th>9</th>\n",
       "      <td>Apartamento</td>\n",
       "      <td>Flamengo</td>\n",
       "      <td>3</td>\n",
       "      <td>0</td>\n",
       "      <td>0</td>\n",
       "      <td>100</td>\n",
       "      <td>2500.0</td>\n",
       "      <td>980.0</td>\n",
       "      <td>105.0</td>\n",
       "      <td>25.00</td>\n",
       "      <td>Apartamento</td>\n",
       "    </tr>\n",
       "    <tr>\n",
       "      <th>12</th>\n",
       "      <td>Apartamento</td>\n",
       "      <td>Leblon</td>\n",
       "      <td>4</td>\n",
       "      <td>2</td>\n",
       "      <td>1</td>\n",
       "      <td>200</td>\n",
       "      <td>12000.0</td>\n",
       "      <td>2340.0</td>\n",
       "      <td>660.0</td>\n",
       "      <td>60.00</td>\n",
       "      <td>Apartamento</td>\n",
       "    </tr>\n",
       "    <tr>\n",
       "      <th>15</th>\n",
       "      <td>Apartamento</td>\n",
       "      <td>Copacabana</td>\n",
       "      <td>1</td>\n",
       "      <td>0</td>\n",
       "      <td>0</td>\n",
       "      <td>39</td>\n",
       "      <td>1800.0</td>\n",
       "      <td>490.0</td>\n",
       "      <td>71.0</td>\n",
       "      <td>46.15</td>\n",
       "      <td>Apartamento</td>\n",
       "    </tr>\n",
       "    <tr>\n",
       "      <th>18</th>\n",
       "      <td>Apartamento</td>\n",
       "      <td>Flamengo</td>\n",
       "      <td>3</td>\n",
       "      <td>1</td>\n",
       "      <td>1</td>\n",
       "      <td>250</td>\n",
       "      <td>8000.0</td>\n",
       "      <td>2000.0</td>\n",
       "      <td>580.0</td>\n",
       "      <td>32.00</td>\n",
       "      <td>Apartamento</td>\n",
       "    </tr>\n",
       "  </tbody>\n",
       "</table>\n",
       "</div>"
      ],
      "text/plain": [
       "           Tipo      Bairro  Quartos  Vagas  Suites  Area    Valor  \\\n",
       "2   Apartamento      Leblon        3      2       1   147   7500.0   \n",
       "9   Apartamento    Flamengo        3      0       0   100   2500.0   \n",
       "12  Apartamento      Leblon        4      2       1   200  12000.0   \n",
       "15  Apartamento  Copacabana        1      0       0    39   1800.0   \n",
       "18  Apartamento    Flamengo        3      1       1   250   8000.0   \n",
       "\n",
       "    Condominio   IPTU  Valor m2 Tipo Agregado  \n",
       "2       1000.0  381.0     51.02   Apartamento  \n",
       "9        980.0  105.0     25.00   Apartamento  \n",
       "12      2340.0  660.0     60.00   Apartamento  \n",
       "15       490.0   71.0     46.15   Apartamento  \n",
       "18      2000.0  580.0     32.00   Apartamento  "
      ]
     },
     "execution_count": 426,
     "metadata": {},
     "output_type": "execute_result"
    }
   ],
   "source": [
    "bairros = ['Copacabana', 'Leblon', 'Flamengo', 'Botafogo', 'Lapa']\n",
    "selecao = dados_exercicio['Bairro'].isin(bairros)\n",
    "dados_exercicio = dados_exercicio[selecao]\n",
    "dados_exercicio.head()\n",
    "# note que agora o dataframe contem apenas os bairros da variável bairros"
   ]
  },
  {
   "cell_type": "markdown",
   "metadata": {},
   "source": [
    "### Agrupando os bairros"
   ]
  },
  {
   "cell_type": "code",
   "execution_count": 427,
   "metadata": {
    "scrolled": true
   },
   "outputs": [
    {
     "data": {
      "text/plain": [
       "Copacabana    1230\n",
       "Leblon         579\n",
       "Botafogo       432\n",
       "Flamengo       331\n",
       "Lapa            12\n",
       "Name: Bairro, dtype: int64"
      ]
     },
     "execution_count": 427,
     "metadata": {},
     "output_type": "execute_result"
    }
   ],
   "source": [
    "dados_exercicio.Bairro.value_counts()"
   ]
  },
  {
   "cell_type": "markdown",
   "metadata": {},
   "source": [
    "### Definindo valores e rótulos do grafico de pizza"
   ]
  },
  {
   "cell_type": "markdown",
   "metadata": {},
   "source": [
    "* gráficos de pizza recebem como valores apenas um array 1D\n",
    "* portanto, selecionaremos apenas os valores da Series acima"
   ]
  },
  {
   "cell_type": "code",
   "execution_count": 428,
   "metadata": {},
   "outputs": [
    {
     "data": {
      "text/plain": [
       "array([1230,  579,  432,  331,   12], dtype=int64)"
      ]
     },
     "execution_count": 428,
     "metadata": {},
     "output_type": "execute_result"
    }
   ],
   "source": [
    "valores = dados_exercicio.Bairro.value_counts().values\n",
    "valores"
   ]
  },
  {
   "cell_type": "markdown",
   "metadata": {},
   "source": [
    "* como rótulos passaremos o index da Series"
   ]
  },
  {
   "cell_type": "code",
   "execution_count": 429,
   "metadata": {},
   "outputs": [
    {
     "data": {
      "text/plain": [
       "Index(['Copacabana', 'Leblon', 'Botafogo', 'Flamengo', 'Lapa'], dtype='object')"
      ]
     },
     "execution_count": 429,
     "metadata": {},
     "output_type": "execute_result"
    }
   ],
   "source": [
    "label = dados_exercicio.Bairro.value_counts().index\n",
    "label"
   ]
  },
  {
   "cell_type": "markdown",
   "metadata": {},
   "source": [
    "### Plotando o gráfico"
   ]
  },
  {
   "cell_type": "markdown",
   "metadata": {},
   "source": [
    "#### 1º Método"
   ]
  },
  {
   "cell_type": "code",
   "execution_count": 448,
   "metadata": {
    "scrolled": false
   },
   "outputs": [
    {
     "data": {
      "text/plain": [
       "([<matplotlib.patches.Wedge at 0x1eeb4f96fa0>,\n",
       "  <matplotlib.patches.Wedge at 0x1eeb4fa66d0>,\n",
       "  <matplotlib.patches.Wedge at 0x1eeb4fa6cd0>,\n",
       "  <matplotlib.patches.Wedge at 0x1eeb4fb52b0>,\n",
       "  <matplotlib.patches.Wedge at 0x1eeb4fb58b0>],\n",
       " [Text(0.09036893457705213, 1.1965924350686028, 'Copacabana'),\n",
       "  Text(-1.0210278962997765, -0.6304776244861137, 'Leblon'),\n",
       "  Text(0.25196696403410873, -1.173248758377964, 'Botafogo'),\n",
       "  Text(1.0899549417223942, -0.5019942479898871, 'Flamengo'),\n",
       "  Text(1.1998722896876155, -0.017506811240171324, 'Lapa')],\n",
       " [Text(0.05271521183661374, 0.6980122537900183, '47.60%'),\n",
       "  Text(-0.5955996061748695, -0.36777861428356623, '22.41%'),\n",
       "  Text(0.14698072901989673, -0.6843951090538123, '16.72%'),\n",
       "  Text(0.6358070493380632, -0.29282997799410077, '12.81%'),\n",
       "  Text(0.6999255023177757, -0.010212306556766604, '0.46%')])"
      ]
     },
     "execution_count": 448,
     "metadata": {},
     "output_type": "execute_result"
    },
    {
     "data": {
      "image/png": "[encoded data removed]",
      "text/plain": [
       "<Figure size 1080x504 with 1 Axes>"
      ]
     },
     "metadata": {},
     "output_type": "display_data"
    }
   ],
   "source": [
    "plt.pie(valores, labels=label, autopct='%.2f%%', explode=(.1, .1, .1, .1, .1))"
   ]
  },
  {
   "cell_type": "markdown",
   "metadata": {},
   "source": [
    "#### 2º Método"
   ]
  },
  {
   "cell_type": "code",
   "execution_count": 458,
   "metadata": {
    "scrolled": false
   },
   "outputs": [
    {
     "data": {
      "text/plain": [
       "Text(0.5, 1.0, 'Bairros Mais Conhecidos')"
      ]
     },
     "execution_count": 458,
     "metadata": {},
     "output_type": "execute_result"
    },
    {
     "data": {
      "image/png": "[encoded data removed]",
      "text/plain": [
       "<Figure size 1080x504 with 1 Axes>"
      ]
     },
     "metadata": {},
     "output_type": "display_data"
    }
   ],
   "source": [
    "# define a área onde será plotado\n",
    "grafico = plt.figure()\n",
    "# cria um objeto do tipo sub-grafico\n",
    "grafico_pizza = grafico.add_subplot()\n",
    "# aplica para esse objeto o grafico de pizza\n",
    "# com %, 2 casas decimais, e descola os valores\n",
    "grafico_pizza.pie(valores, labels=label, autopct='%.2f%%', explode=(.1, .1, .1, .1, .1))\n",
    "# acerta o título e o tamanho do título em extra grande\n",
    "grafico_pizza.set_title('Bairros Mais Conhecidos', size='xx-large')"
   ]
  }
 ],
 "metadata": {
  "kernelspec": {
   "display_name": "Python 3",
   "language": "python",
   "name": "python3"
  },
  "language_info": {
   "codemirror_mode": {
    "name": "ipython",
    "version": 3
   },
   "file_extension": ".py",
   "mimetype": "text/x-python",
   "name": "python",
   "nbconvert_exporter": "python",
   "pygments_lexer": "ipython3",
   "version": "3.8.5"
  }
 },
 "nbformat": 4,
 "nbformat_minor": 4
}
